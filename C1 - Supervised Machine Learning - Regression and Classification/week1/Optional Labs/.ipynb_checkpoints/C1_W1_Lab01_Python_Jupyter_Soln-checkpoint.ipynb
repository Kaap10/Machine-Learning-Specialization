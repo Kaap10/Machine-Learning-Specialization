{
  "cells": [
    {
      "cell_type": "markdown",
      "metadata": {
        "colab_type": "text",
        "id": "view-in-github"
      },
      "source": [
        "<a href=\"https://colab.research.google.com/github/Kaap10/Machine-Learning-Specialization/blob/main/C1%20-%20Supervised%20Machine%20Learning%20-%20Regression%20and%20Classification/week1/Optional%20Labs/C1_W1_Lab01_Python_Jupyter_Soln.ipynb\" target=\"_parent\"><img src=\"https://colab.research.google.com/assets/colab-badge.svg\" alt=\"Open In Colab\"/></a>"
      ]
    },
    {
      "cell_type": "markdown",
      "id": "b5VRyTm69Wsf",
      "metadata": {
        "id": "b5VRyTm69Wsf",
        "pycharm": {
          "name": "#%% md\n"
        }
      },
      "source": [
        "# Optional Lab:  Brief Introduction to Python and Jupyter Notebooks\n",
        "Welcome to the first optional lab!\n",
        "Optional labs are available to:\n",
        "- provide information - like this notebook\n",
        "- reinforce lecture material with hands-on examples\n",
        "- provide working examples of routines used in the graded labs"
      ]
    },
    {
      "cell_type": "markdown",
      "id": "T99M2GGp9Wsl",
      "metadata": {
        "id": "T99M2GGp9Wsl",
        "pycharm": {
          "name": "#%% md\n"
        }
      },
      "source": [
        "## Goals\n",
        "In this lab, you will:\n",
        "- Get a brief introduction to Jupyter notebooks\n",
        "- Take a tour of Jupyter notebooks\n",
        "- Learn the difference between markdown cells and code cells\n",
        "- Practice some basic python\n"
      ]
    },
    {
      "cell_type": "markdown",
      "id": "R2fEyH3r9Wsn",
      "metadata": {
        "id": "R2fEyH3r9Wsn",
        "pycharm": {
          "name": "#%% md\n"
        }
      },
      "source": [
        "The easiest way to become familiar with Jupyter notebooks is to take the tour available above in the Help menu:"
      ]
    },
    {
      "cell_type": "markdown",
      "id": "XcNHUd5E9Wso",
      "metadata": {
        "id": "XcNHUd5E9Wso",
        "pycharm": {
          "name": "#%% md\n"
        }
      },
      "source": [
        "<figure>\n",
        "    <center> <img src=\"https://github.com/Kaap10/Machine-Learning-Specialization/blob/main/C1%20-%20Supervised%20Machine%20Learning%20-%20Regression%20and%20Classification/week1/Optional%20Labs/images/C1W1L1_Tour.PNG?raw=1\"  alt='missing' width=\"400\"  ><center/>\n",
        "<figure/>"
      ]
    },
    {
      "cell_type": "markdown",
      "id": "vFqMorGE9Wso",
      "metadata": {
        "id": "vFqMorGE9Wso",
        "pycharm": {
          "name": "#%% md\n"
        }
      },
      "source": [
        "Jupyter notebooks have two types of cells that are used in this course. Cells such as this which contain documentation called `Markdown Cells`. The name is derived from the simple formatting language used in the cells. You will not be required to produce markdown cells. Its useful to understand the `cell pulldown` shown in graphic below. Occasionally, a cell will end up in the wrong mode and you may need to restore it to the right state:"
      ]
    },
    {
      "cell_type": "markdown",
      "id": "FmEFbHq59Wsp",
      "metadata": {
        "id": "FmEFbHq59Wsp",
        "pycharm": {
          "name": "#%% md\n"
        }
      },
      "source": [
        "<figure>\n",
        "   <img src=\"https://github.com/Kaap10/Machine-Learning-Specialization/blob/main/C1%20-%20Supervised%20Machine%20Learning%20-%20Regression%20and%20Classification/week1/Optional%20Labs/images/C1W1L1_Markdown.PNG?raw=1\"  alt='missing' width=\"400\"  >\n",
        "<figure/>"
      ]
    },
    {
      "cell_type": "markdown",
      "id": "lQfkdfn09Wsp",
      "metadata": {
        "id": "lQfkdfn09Wsp",
        "pycharm": {
          "name": "#%% md\n"
        }
      },
      "source": [
        "The other type of cell is the `code cell` where you will write your code:"
      ]
    },
    {
      "cell_type": "code",
      "execution_count": 2,
      "id": "kV1YpvIW9Wsq",
      "metadata": {
        "colab": {
          "base_uri": "https://localhost:8080/"
        },
        "id": "kV1YpvIW9Wsq",
        "outputId": "cfa7d0a8-cb32-4571-893e-712cc267934d",
        "pycharm": {
          "name": "#%%\n"
        }
      },
      "outputs": [
        {
          "name": "stdout",
          "output_type": "stream",
          "text": [
            "This is  code cell\n",
            "Hello World!\n"
          ]
        }
      ],
      "source": [
        "#This is  a 'Code' Cell\n",
        "print(\"This is  code cell\")\n",
        "print(\"Hello World!\")"
      ]
    },
    {
      "cell_type": "markdown",
      "id": "Z8VRaW_j9Wss",
      "metadata": {
        "id": "Z8VRaW_j9Wss",
        "pycharm": {
          "name": "#%% md\n"
        }
      },
      "source": [
        "## Python\n",
        "You can write your code in the code cells.\n",
        "To run the code, select the cell and either\n",
        "- hold the shift-key down and hit 'enter' or 'return'\n",
        "- click the 'run' arrow above\n",
        "<figure>\n",
        "    <img src=\"https://github.com/Kaap10/Machine-Learning-Specialization/blob/main/C1%20-%20Supervised%20Machine%20Learning%20-%20Regression%20and%20Classification/week1/Optional%20Labs/images/C1W1L1_Run.PNG?raw=1\"  width=\"400\"  >\n",
        "<figure/>\n",
        "\n"
      ]
    },
    {
      "cell_type": "markdown",
      "id": "_im36xDu9Wst",
      "metadata": {
        "id": "_im36xDu9Wst",
        "pycharm": {
          "name": "#%% md\n"
        }
      },
      "source": [
        "### Print statement\n",
        "Print statements will generally use the python f-string style.  \n",
        "Try creating your own print in the following cell.  \n",
        "Try both methods of running the cell."
      ]
    },
    {
      "cell_type": "code",
      "execution_count": 3,
      "id": "81DpeCti9Wst",
      "metadata": {
        "colab": {
          "base_uri": "https://localhost:8080/"
        },
        "id": "81DpeCti9Wst",
        "outputId": "afaf1314-67f7-480a-e0cf-87d4368a0895",
        "pycharm": {
          "name": "#%%\n"
        }
      },
      "outputs": [
        {
          "name": "stdout",
          "output_type": "stream",
          "text": [
            "f strings allow you to embed variables right in the strings!\n",
            "My name is: Vardhman Gupta\n"
          ]
        }
      ],
      "source": [
        "# print statements\n",
        "variable = \"right in the strings!\"\n",
        "print(f\"f strings allow you to embed variables {variable}\")\n",
        "\n",
        "name = \"Vardhman Gupta\"\n",
        "print(f\"My name is: {name}\")"
      ]
    },
    {
      "cell_type": "markdown",
      "id": "67Yk8W6O9Wsu",
      "metadata": {
        "id": "67Yk8W6O9Wsu",
        "pycharm": {
          "name": "#%% md\n"
        }
      },
      "source": [
        "# Congratulations!\n",
        "You now know how to find your way around a Jupyter Notebook."
      ]
    }
  ],
  "metadata": {
    "colab": {
      "include_colab_link": true,
      "provenance": []
    },
    "kernelspec": {
      "display_name": "Python 3",
      "language": "python",
      "name": "python3"
    },
    "language_info": {
      "codemirror_mode": {
        "name": "ipython",
        "version": 3
      },
      "file_extension": ".py",
      "mimetype": "text/x-python",
      "name": "python",
      "nbconvert_exporter": "python",
      "pygments_lexer": "ipython3",
      "version": "3.11.6"
    }
  },
  "nbformat": 4,
  "nbformat_minor": 5
}
